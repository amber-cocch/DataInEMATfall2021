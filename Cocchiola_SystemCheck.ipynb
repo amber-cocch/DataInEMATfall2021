{
 "cells": [
  {
   "cell_type": "markdown",
   "id": "865ce2b6",
   "metadata": {},
   "source": [
    "This is a Markdown Cell"
   ]
  },
  {
   "cell_type": "markdown",
   "id": "935f76b9",
   "metadata": {},
   "source": [
    "# Headers lead to organization\n",
    "- They create visual distinctions\n",
    "- Much like unordered lists\n",
    "\n",
    "## More hashes lead to smaller headers\n",
    "There are six of these headers to be exact, as HTML standard.\n",
    "\n",
    "**Can you do a list of headers?**\n",
    "*Let's find out!*\n",
    "1. ### header 3\n",
    "2. #### header 4\n",
    "3. ##### header 5\n",
    "4. ###### header 6\n",
    "\n",
    "~~well that worked~~\n",
    "\n",
    "***Hooray***\n"
   ]
  },
  {
   "cell_type": "markdown",
   "id": "9a72ffae",
   "metadata": {},
   "source": [
    "Spell check works! This I knw fir suree. "
   ]
  },
  {
   "cell_type": "markdown",
   "id": "64e836d0",
   "metadata": {},
   "source": [
    "![](https://www.wpbeginner.com/wp-content/uploads/2016/02/stocksnap.jpg)"
   ]
  },
  {
   "cell_type": "markdown",
   "id": "1d9d5a90",
   "metadata": {},
   "source": [
    "# Coco will oversee that the math is done correctly. \n",
    "### She runs Python.\n",
    "\n",
    "\n",
    "**Variable assignment**"
   ]
  },
  {
   "cell_type": "code",
   "execution_count": 1,
   "id": "d76f2000",
   "metadata": {},
   "outputs": [],
   "source": [
    "array = [6*3, 5, 4+2, 0]"
   ]
  },
  {
   "cell_type": "code",
   "execution_count": 4,
   "id": "9989af70",
   "metadata": {},
   "outputs": [
    {
     "data": {
      "text/plain": [
       "[54, 15, 18, 0]"
      ]
     },
     "execution_count": 4,
     "metadata": {},
     "output_type": "execute_result"
    }
   ],
   "source": [
    "array"
   ]
  },
  {
   "cell_type": "markdown",
   "id": "565548e3",
   "metadata": {},
   "source": [
    "**For Score and 7 years ago**"
   ]
  },
  {
   "cell_type": "code",
   "execution_count": 2,
   "id": "43c49ea0",
   "metadata": {},
   "outputs": [],
   "source": [
    "def multByThree(param):\n",
    "    x=0\n",
    "    for i in param:\n",
    "        i=i*3\n",
    "        param[x]=i\n",
    "        x+=1\n",
    "    return param"
   ]
  },
  {
   "cell_type": "markdown",
   "id": "ae6a05f8",
   "metadata": {},
   "source": [
    "**Printing Press has nothing on Python**"
   ]
  },
  {
   "cell_type": "code",
   "execution_count": 3,
   "id": "4a5cdcca",
   "metadata": {
    "scrolled": true
   },
   "outputs": [
    {
     "name": "stdout",
     "output_type": "stream",
     "text": [
      "[18, 5, 6, 0]\n",
      "[54, 15, 18, 0]\n"
     ]
    }
   ],
   "source": [
    "print(array)\n",
    "\n",
    "multByThree(array)\n",
    "\n",
    "print(array)"
   ]
  },
  {
   "cell_type": "markdown",
   "id": "1c20d5a0",
   "metadata": {},
   "source": [
    "***Done!***"
   ]
  }
 ],
 "metadata": {
  "kernelspec": {
   "display_name": "Python 3 (ipykernel)",
   "language": "python",
   "name": "python3"
  },
  "language_info": {
   "codemirror_mode": {
    "name": "ipython",
    "version": 3
   },
   "file_extension": ".py",
   "mimetype": "text/x-python",
   "name": "python",
   "nbconvert_exporter": "python",
   "pygments_lexer": "ipython3",
   "version": "3.9.6"
  }
 },
 "nbformat": 4,
 "nbformat_minor": 5
}
