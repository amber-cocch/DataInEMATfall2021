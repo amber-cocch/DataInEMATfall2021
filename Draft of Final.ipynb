{
 "cells": [
  {
   "cell_type": "markdown",
   "id": "d7ac209a",
   "metadata": {},
   "source": [
    "# Ao3 Tags on \"Fix-it Fics\" as an Indicator of Satisfying Endings #\n",
    "\n",
    "Are there common themes among fix it fics that show what audiences crave that shows lack? To answer this, I will scrape data from Archive of Our Own (Ao3) to compare tags used on “fix it” fanfictions, or fanfictions that aim to give the show a “better” ending, across the shows Voltron, Supernatural, and Star Wars: The Sequel Trilogy. The answer to this question could be used to suggest what themes audiences are wanting to see in media in general and could be used as a recommendation to media writers on how to create “satisfying” endings. \n",
    "\n",
    "##### *** DISCLAIMER *** #####\n",
    "There are spoilers for each show I will talk about (Voltron, Supernatural, and the Star Wars Sequel Trilogy). All of these shows were completed within recent years. If you are planning to watch these and do not want spoilers, I would not recommend viewing the conclusion section of this report. \n",
    "\n",
    "Also, all of these shows, as stated, are finished. I will be giving my recommendations as if the shows have not aired, but the plot is written so the writers could make changes, even though this is impossible as of today.\n",
    "\n",
    "\n",
    "## Data Collection ##\n",
    "\n",
    "To do this, I will use the following packages."
   ]
  },
  {
   "cell_type": "code",
   "execution_count": 71,
   "id": "efdfff3d",
   "metadata": {},
   "outputs": [],
   "source": [
    "import pandas as pd\n",
    "from bs4 import BeautifulSoup as bs\n",
    "import requests\n",
    "from matplotlib import pyplot as plt\n",
    "import numpy as np\n",
    "from scipy import stats"
   ]
  },
  {
   "cell_type": "markdown",
   "id": "13df93c8",
   "metadata": {},
   "source": [
    "I request data from Ao3 using the requests library. I did some work on Ao3's actual page as it would be easier than generate the url, which I was unsure how to do. There is not a lot of documentation on how Ao3 works, as seen by the lack of API, so all urls will be generated on the actual Ao3 site and then pasted over.\n",
    "\n",
    "\n",
    "\n",
    "### Playing with the Data ###\n",
    "\n",
    "I wanted to see how to scrape Ao3, so I used Voltron as a test. I obtained the website url to scrape from by doing a manual search on Ao3's website. Ao3 lists 20 fanfics per page, so this will have 20 fanfics worth of tags. Tags are not limited, so this is entirely dependent on what the author decided to list when publishing the fic. I also decided to exclude any explicit labeled fanfictions for the sake of this being a school project and having to present this data. This works out for the overall mission as well, as all of the fandoms I chose are aired on TV and follow FCC guidelines on how graphic their content can be for TV-14/PG-13."
   ]
  },
  {
   "cell_type": "code",
   "execution_count": 72,
   "id": "32a22d04",
   "metadata": {},
   "outputs": [],
   "source": [
    "page = requests.request(\"GET\", 'https://archiveofourown.org/tags/Voltron:%20Legendary%20Defender/works?commit=Sort+and+Filter&exclude_work_search%5Brating_ids%5D%5B%5D=13&page=1&utf8=%E2%9C%93&work_search%5Bcomplete%5D=&work_search%5Bcrossover%5D=&work_search%5Bdate_from%5D=&work_search%5Bdate_to%5D=&work_search%5Bexcluded_tag_names%5D=&work_search%5Blanguage_id%5D=&work_search%5Bother_tag_names%5D=Fix-It&work_search%5Bquery%5D=&work_search%5Bsort_column%5D=revised_at&work_search%5Bwords_from%5D=&work_search%5Bwords_to%5D=')"
   ]
  },
  {
   "cell_type": "code",
   "execution_count": 73,
   "id": "90b6c636",
   "metadata": {},
   "outputs": [
    {
     "data": {
      "text/plain": [
       "<Response [200]>"
      ]
     },
     "execution_count": 73,
     "metadata": {},
     "output_type": "execute_result"
    }
   ],
   "source": [
    "page"
   ]
  },
  {
   "cell_type": "code",
   "execution_count": 74,
   "id": "74549d44",
   "metadata": {},
   "outputs": [],
   "source": [
    "soup = bs(page.text, \"html.parser\")"
   ]
  },
  {
   "cell_type": "markdown",
   "id": "c66dbd38",
   "metadata": {},
   "source": [
    "I looked through the soup in order to find what html tags contained the \"tag\" items that I will need for my analysis. In this case, it is in linked items (<a/href>) with the class \"tag\"."
   ]
  },
  {
   "cell_type": "code",
   "execution_count": 75,
   "id": "a767d5a4",
   "metadata": {},
   "outputs": [],
   "source": [
    "tags = soup.find_all('a', class_='tag')"
   ]
  },
  {
   "cell_type": "markdown",
   "id": "d4c10e74",
   "metadata": {},
   "source": [
    "With this, I can clean up the list so it just contains what is inside the tags."
   ]
  },
  {
   "cell_type": "code",
   "execution_count": 76,
   "id": "1b4912fd",
   "metadata": {},
   "outputs": [],
   "source": [
    "tagList = [x.text for x in soup.find_all('a', class_='tag')]"
   ]
  },
  {
   "cell_type": "markdown",
   "id": "1c52fe2c",
   "metadata": {},
   "source": [
    "And with that, I have a list of tags for the first 20 fix-it fanfics from Voltron in Ao3. \n"
   ]
  },
  {
   "cell_type": "markdown",
   "id": "1bdb198d",
   "metadata": {},
   "source": [
    "### Function Creation ###\n",
    "Now that I have learned how to scrape the tags from Ao3, I will create a function that can take the fandom name, a data frame, and how many pages to iterate through as parameters and spit out a data frame of tags for that fandom. The function can be used as long as you use the exact phrase used for the fandom as Ao3 does. If it is your first time using the function, use an empty data frame. In order to keep appending onto that data frame, feed that same data frame into the function when using a different fandom title. The function will a dataframe with two columns: one with the tags and the other with the name of the fandom that tag came from.\n",
    "\n",
    "The first part of the function is where the showName is changed so the spaces are replaced with \"%20\", as that is how the url reads spaces. The function updates the showName and then iterates through each page requested, scraping tags from each page. It then goes back through to add the final column of the \"Fandom\" is came from."
   ]
  },
  {
   "cell_type": "code",
   "execution_count": 77,
   "id": "1ef60ecd",
   "metadata": {},
   "outputs": [],
   "source": [
    "def getTags(showName, df, getPages):\n",
    "    pageNum = 1\n",
    "    x = 0\n",
    "    showNameParse = showName.split()\n",
    "    showNameAddSpace = \"\"\n",
    "    for word in showNameParse:\n",
    "        showNameAddSpace = showNameAddSpace + showNameParse[x] + \"%20\"\n",
    "        x += 1\n",
    "    #print(showNameAddSpace)\n",
    "    temp_df = pd.DataFrame()\n",
    "    while pageNum < getPages:\n",
    "        page = requests.request(\"GET\", \"https://archiveofourown.org/tags/\" + showNameAddSpace + \"/works?commit=Sort+and+Filter&exclude_work_search%5Brating_ids%5D%5B%5D=13&page=\" + str(pageNum) + \"&utf8=%E2%9C%93&work_search%5Bcomplete%5D=&work_search%5Bcrossover%5D=&work_search%5Bdate_from%5D=&work_search%5Bdate_to%5D=&work_search%5Bexcluded_tag_names%5D=&work_search%5Blanguage_id%5D=&work_search%5Bother_tag_names%5D=Fix-It&work_search%5Bquery%5D=&work_search%5Bsort_column%5D=revised_at&work_search%5Bwords_from%5D=&work_search%5Bwords_to%5D=\")\n",
    "        soup = bs(page.text, \"html.parser\")\n",
    "        tagList = [x.text for x in soup.find_all('a', class_='tag')]\n",
    "        temp_df = temp_df.append(tagList, ignore_index=True)\n",
    "        pageNum += 1\n",
    "        for x in temp_df:\n",
    "            temp_df[\"Fandom\"] = showName\n",
    "    df = df.append(temp_df, ignore_index=True)\n",
    "    return df"
   ]
  },
  {
   "cell_type": "markdown",
   "id": "10f0fda5",
   "metadata": {},
   "source": [
    "### Voltron ###\n",
    "\n",
    "I chose Voltron for this project due to its notoriety of having a disliked ending by the fans. I will use my function to obtain the tags from the first 10 pages. Originally, I ran the report with 5 pages, which was arbitrary. However, I found that the number of tags pulled from 5 pages was insufficient to find meaningful values in the tag frequency. This will gather tags for the first 200 fanfictions. "
   ]
  },
  {
   "cell_type": "code",
   "execution_count": 78,
   "id": "3924145d",
   "metadata": {},
   "outputs": [],
   "source": [
    "tag_df = pd.DataFrame()\n",
    "final_tagList = getTags(\"Voltron: Legendary Defender\", tag_df, 10)"
   ]
  },
  {
   "cell_type": "markdown",
   "id": "433f2ba1",
   "metadata": {},
   "source": [
    "### Supernatural ###\n",
    "\n",
    "Now that I have 100 fanfics worth of tags for Voltron, I will repeat this process for the tv show Supernatural, chosen for its popularity as the subject of fanfiction (over 240,000 fics!) and for its bad ending. \n",
    "\n",
    "Since I have already worked out what tags I need and how I can get them from this site, I will be condensing my process to fewer cells with less explanation."
   ]
  },
  {
   "cell_type": "code",
   "execution_count": 79,
   "id": "d66a73e2",
   "metadata": {},
   "outputs": [],
   "source": [
    "final_tagList = getTags(\"Supernatural\", final_tagList, 10)"
   ]
  },
  {
   "cell_type": "markdown",
   "id": "f3b6e4f3",
   "metadata": {},
   "source": [
    "### Star Wars: The Sequel Trilogy ###\n",
    "\n",
    "This fandom is different than the previous two chosen as it is much bigger than Voltron or even Supernatural since it encompasses many different movies and tv shows. When I chose Star Wars, I did so because I personally did not like the ending to Star Wars Episode IX Rise of Skywalker. I did a preliminary check and found fix-it fanfics for that movie. However, when choosing which fandom website to sort and scrape, I found that there were 11 categories for the Star Wars media franchise. Rather than look through all of the media, which was a category, I chose to stay true to what made me pick Star Wars in general and chose the \"Star Wars: The Sequel Trilogy\" fandom since it includes Rise of Skywalker.\n",
    "\n",
    "Despite this being a movie trilogy rather than a tv show, I do not expect this media difference to affect tag usage and preferences among fix-it fanfics. "
   ]
  },
  {
   "cell_type": "code",
   "execution_count": 80,
   "id": "0efde540",
   "metadata": {},
   "outputs": [],
   "source": [
    "final_tagList = getTags(\"Star Wars Sequel Trilogy\", final_tagList, 10)"
   ]
  },
  {
   "cell_type": "code",
   "execution_count": 81,
   "id": "0094eb92",
   "metadata": {},
   "outputs": [
    {
     "data": {
      "text/html": [
       "<div>\n",
       "<style scoped>\n",
       "    .dataframe tbody tr th:only-of-type {\n",
       "        vertical-align: middle;\n",
       "    }\n",
       "\n",
       "    .dataframe tbody tr th {\n",
       "        vertical-align: top;\n",
       "    }\n",
       "\n",
       "    .dataframe thead th {\n",
       "        text-align: right;\n",
       "    }\n",
       "</style>\n",
       "<table border=\"1\" class=\"dataframe\">\n",
       "  <thead>\n",
       "    <tr style=\"text-align: right;\">\n",
       "      <th></th>\n",
       "      <th>0</th>\n",
       "      <th>Fandom</th>\n",
       "    </tr>\n",
       "  </thead>\n",
       "  <tbody>\n",
       "    <tr>\n",
       "      <th>0</th>\n",
       "      <td>Voltron: Legendary Defender</td>\n",
       "      <td>Voltron: Legendary Defender</td>\n",
       "    </tr>\n",
       "    <tr>\n",
       "      <th>1</th>\n",
       "      <td>Voltron: Legendary Defender</td>\n",
       "      <td>Voltron: Legendary Defender</td>\n",
       "    </tr>\n",
       "    <tr>\n",
       "      <th>2</th>\n",
       "      <td>Voltron - Fandom</td>\n",
       "      <td>Voltron: Legendary Defender</td>\n",
       "    </tr>\n",
       "    <tr>\n",
       "      <th>3</th>\n",
       "      <td>Creator Chose Not To Use Archive Warnings</td>\n",
       "      <td>Voltron: Legendary Defender</td>\n",
       "    </tr>\n",
       "    <tr>\n",
       "      <th>4</th>\n",
       "      <td>Adam/Shiro (Voltron)</td>\n",
       "      <td>Voltron: Legendary Defender</td>\n",
       "    </tr>\n",
       "    <tr>\n",
       "      <th>5</th>\n",
       "      <td>Adam &amp; Shiro (Voltron)</td>\n",
       "      <td>Voltron: Legendary Defender</td>\n",
       "    </tr>\n",
       "    <tr>\n",
       "      <th>6</th>\n",
       "      <td>Adam &amp; Keith (Voltron)</td>\n",
       "      <td>Voltron: Legendary Defender</td>\n",
       "    </tr>\n",
       "    <tr>\n",
       "      <th>7</th>\n",
       "      <td>Keith &amp; Shiro (Voltron)</td>\n",
       "      <td>Voltron: Legendary Defender</td>\n",
       "    </tr>\n",
       "    <tr>\n",
       "      <th>8</th>\n",
       "      <td>Allura/Lance (Voltron)</td>\n",
       "      <td>Voltron: Legendary Defender</td>\n",
       "    </tr>\n",
       "    <tr>\n",
       "      <th>9</th>\n",
       "      <td>Hunk &amp; Shiro (Voltron)</td>\n",
       "      <td>Voltron: Legendary Defender</td>\n",
       "    </tr>\n",
       "    <tr>\n",
       "      <th>10</th>\n",
       "      <td>Pidge | Katie Holt &amp; Shiro</td>\n",
       "      <td>Voltron: Legendary Defender</td>\n",
       "    </tr>\n",
       "    <tr>\n",
       "      <th>11</th>\n",
       "      <td>Allura &amp; Coran &amp; Hunk &amp; Keith &amp; Lance &amp; Pidge ...</td>\n",
       "      <td>Voltron: Legendary Defender</td>\n",
       "    </tr>\n",
       "    <tr>\n",
       "      <th>12</th>\n",
       "      <td>Allura &amp; Coran &amp; Hunk &amp; Keith &amp; Krolia &amp; Lance...</td>\n",
       "      <td>Voltron: Legendary Defender</td>\n",
       "    </tr>\n",
       "    <tr>\n",
       "      <th>13</th>\n",
       "      <td>Shiro &amp; Sven (Voltron)</td>\n",
       "      <td>Voltron: Legendary Defender</td>\n",
       "    </tr>\n",
       "    <tr>\n",
       "      <th>14</th>\n",
       "      <td>Hunk/Shay (Voltron)</td>\n",
       "      <td>Voltron: Legendary Defender</td>\n",
       "    </tr>\n",
       "  </tbody>\n",
       "</table>\n",
       "</div>"
      ],
      "text/plain": [
       "                                                    0  \\\n",
       "0                         Voltron: Legendary Defender   \n",
       "1                         Voltron: Legendary Defender   \n",
       "2                                    Voltron - Fandom   \n",
       "3           Creator Chose Not To Use Archive Warnings   \n",
       "4                                Adam/Shiro (Voltron)   \n",
       "5                              Adam & Shiro (Voltron)   \n",
       "6                              Adam & Keith (Voltron)   \n",
       "7                             Keith & Shiro (Voltron)   \n",
       "8                              Allura/Lance (Voltron)   \n",
       "9                              Hunk & Shiro (Voltron)   \n",
       "10                         Pidge | Katie Holt & Shiro   \n",
       "11  Allura & Coran & Hunk & Keith & Lance & Pidge ...   \n",
       "12  Allura & Coran & Hunk & Keith & Krolia & Lance...   \n",
       "13                             Shiro & Sven (Voltron)   \n",
       "14                                Hunk/Shay (Voltron)   \n",
       "\n",
       "                         Fandom  \n",
       "0   Voltron: Legendary Defender  \n",
       "1   Voltron: Legendary Defender  \n",
       "2   Voltron: Legendary Defender  \n",
       "3   Voltron: Legendary Defender  \n",
       "4   Voltron: Legendary Defender  \n",
       "5   Voltron: Legendary Defender  \n",
       "6   Voltron: Legendary Defender  \n",
       "7   Voltron: Legendary Defender  \n",
       "8   Voltron: Legendary Defender  \n",
       "9   Voltron: Legendary Defender  \n",
       "10  Voltron: Legendary Defender  \n",
       "11  Voltron: Legendary Defender  \n",
       "12  Voltron: Legendary Defender  \n",
       "13  Voltron: Legendary Defender  \n",
       "14  Voltron: Legendary Defender  "
      ]
     },
     "execution_count": 81,
     "metadata": {},
     "output_type": "execute_result"
    }
   ],
   "source": [
    "final_tagList.head(15)"
   ]
  },
  {
   "cell_type": "markdown",
   "id": "392abad4",
   "metadata": {},
   "source": [
    "## Data Visualization ##\n",
    "\n",
    "The aspect I am interested in this data is how frequently a certain tag appears within the list. Frequency can be measured a few ways within the data. I will create a pivot table to find and organize the duplicates and then use that information to find the modes within the data. "
   ]
  },
  {
   "cell_type": "code",
   "execution_count": 82,
   "id": "f78298e6",
   "metadata": {},
   "outputs": [
    {
     "data": {
      "text/plain": [
       "Tags\n",
       "\"You're nothing but not to me\" gets translated into layman's terms    1\n",
       "#DeanStudies                                                          1\n",
       "#ReleaseTheRianJohnsonCut                                             1\n",
       "(Don't Worry)                                                         1\n",
       "(Mostly) Canon-Compliant                                              1\n",
       "                                                                     ..\n",
       "you're the reader                                                     1\n",
       "your honor they're so in love                                         1\n",
       "zethrid                                                               1\n",
       "Перевод на русский | Translation in Russian                           1\n",
       "僕のヒーローアカデミア | Boku no Hero Academia | My Hero Academia                1\n",
       "Length: 5909, dtype: int64"
      ]
     },
     "execution_count": 82,
     "metadata": {},
     "output_type": "execute_result"
    }
   ],
   "source": [
    "final_tagList = final_tagList.rename(columns={0: \"Tags\"})\n",
    "final_tagList.pivot_table(columns=['Tags'], aggfunc ='size')"
   ]
  },
  {
   "cell_type": "code",
   "execution_count": 83,
   "id": "7f051af9",
   "metadata": {},
   "outputs": [],
   "source": [
    "final_tag_pivot_both = final_tagList.pivot_table(columns=['Tags', 'Fandom'], aggfunc ='size')\n",
    "final_tag_pivot_all = final_tagList.pivot_table(columns=['Tags'], aggfunc = 'size')"
   ]
  },
  {
   "cell_type": "markdown",
   "id": "6ce08c82",
   "metadata": {},
   "source": [
    "I created two pivot tables. The first has the columns organized by the tags and the Fandom, so it will count the frequencies of tags for each specific fandom. The pivot_all table ignores fandoms and looks at the frequency of a tag regardless of the fandom it came from.\n",
    "\n",
    "I attempted to plot this pivot table to get a first look at what the tag frequencies look like. The tables showed that there are some tags that appear much more often than others that I pulled! The goal is to find these tags and see if I can use these tags to generate an idea about what themes people look for in shows in that to be \"fixed.\" However, the table was unreadable due to the sheer amount of values, so I decided not to show it here. I need to filter out all the tags that only have one or two counts in the table.\n",
    "\n",
    "When I did this, it showed that there were around 800 tags that are used more than once. That is quite a difference from the over 7000 raw tags I pulled and the 3000 tags when duplicates were accounted for. To find the most frequent tags, I will simply increase the number in the comparison until there are 10 or so tags."
   ]
  },
  {
   "cell_type": "code",
   "execution_count": 84,
   "id": "2eace972",
   "metadata": {},
   "outputs": [
    {
     "data": {
      "text/plain": [
       "Tags\n",
       "Allura (Voltron)                             104\n",
       "Alternate Universe - Canon Divergence        141\n",
       "Angst                                         95\n",
       "Ben Solo | Kylo Ren                          127\n",
       "Castiel (Supernatural)                       119\n",
       "Castiel/Dean Winchester                      141\n",
       "Coran (Voltron)                               71\n",
       "Creator Chose Not To Use Archive Warnings    152\n",
       "Dean Winchester                              165\n",
       "Finn (Star Wars)                              78\n",
       "Fix-It                                       176\n",
       "Fix-It of Sorts                               78\n",
       "Fluff                                         84\n",
       "Graphic Depictions Of Violence                77\n",
       "Hunk (Voltron)                               106\n",
       "Hurt/Comfort                                  75\n",
       "Jack Kline                                    81\n",
       "Keith (Voltron)                              154\n",
       "Keith/Lance (Voltron)                         81\n",
       "Lance (Voltron)                              134\n",
       "No Archive Warnings Apply                    301\n",
       "Pidge | Katie Holt                           109\n",
       "Poe Dameron                                   80\n",
       "Post-Canon                                    86\n",
       "Rey (Star Wars)                              135\n",
       "Rey/Ben Solo | Kylo Ren                       96\n",
       "Sam Winchester                               126\n",
       "Shiro (Voltron)                              133\n",
       "Star Wars - All Media Types                  129\n",
       "Star Wars Sequel Trilogy                     189\n",
       "Supernatural                                 189\n",
       "Voltron: Legendary Defender                  187\n",
       "dtype: int64"
      ]
     },
     "execution_count": 84,
     "metadata": {},
     "output_type": "execute_result"
    }
   ],
   "source": [
    "final_tag_pivot_all[final_tag_pivot_all > 65]"
   ]
  },
  {
   "cell_type": "code",
   "execution_count": 85,
   "id": "2e1d7812",
   "metadata": {},
   "outputs": [
    {
     "data": {
      "text/plain": [
       "Tags                                       Fandom                     \n",
       "Allura (Voltron)                           Voltron: Legendary Defender    104\n",
       "Alternate Universe - Canon Divergence      Voltron: Legendary Defender     57\n",
       "Ben Solo | Kylo Ren                        Star Wars Sequel Trilogy       127\n",
       "Castiel (Supernatural)                     Supernatural                   119\n",
       "Castiel/Dean Winchester                    Supernatural                   141\n",
       "Coran (Voltron)                            Voltron: Legendary Defender     71\n",
       "Creator Chose Not To Use Archive Warnings  Star Wars Sequel Trilogy        66\n",
       "                                           Voltron: Legendary Defender     56\n",
       "Dean Winchester                            Supernatural                   165\n",
       "Finn (Star Wars)                           Star Wars Sequel Trilogy        78\n",
       "Fix-It                                     Supernatural                    82\n",
       "Hunk (Voltron)                             Voltron: Legendary Defender    106\n",
       "Jack Kline                                 Supernatural                    81\n",
       "Keith (Voltron)                            Voltron: Legendary Defender    154\n",
       "Keith/Lance (Voltron)                      Voltron: Legendary Defender     81\n",
       "Lance (Voltron)                            Voltron: Legendary Defender    134\n",
       "Leia Organa                                Star Wars Sequel Trilogy        60\n",
       "No Archive Warnings Apply                  Star Wars Sequel Trilogy        80\n",
       "                                           Supernatural                   122\n",
       "                                           Voltron: Legendary Defender     99\n",
       "Pidge | Katie Holt                         Voltron: Legendary Defender    109\n",
       "Poe Dameron                                Star Wars Sequel Trilogy        80\n",
       "Rey (Star Wars)                            Star Wars Sequel Trilogy       135\n",
       "Rey/Ben Solo | Kylo Ren                    Star Wars Sequel Trilogy        96\n",
       "Sam Winchester                             Supernatural                   126\n",
       "Shiro (Voltron)                            Voltron: Legendary Defender    133\n",
       "Star Wars - All Media Types                Star Wars Sequel Trilogy       128\n",
       "Star Wars Sequel Trilogy                   Star Wars Sequel Trilogy       189\n",
       "Star Wars: The Rise of Skywalker Fix-It    Star Wars Sequel Trilogy        59\n",
       "Supernatural                               Supernatural                   189\n",
       "Voltron: Legendary Defender                Voltron: Legendary Defender    187\n",
       "dtype: int64"
      ]
     },
     "execution_count": 85,
     "metadata": {},
     "output_type": "execute_result"
    }
   ],
   "source": [
    "final_tag_pivot_both[final_tag_pivot_both > 55]"
   ]
  },
  {
   "cell_type": "markdown",
   "id": "85acf128",
   "metadata": {},
   "source": [
    "These tags are actually not very helpful. Many of the tags are characters from the show, ship names, or just the show itself. I will need to filter these tags out in order to find the most frequent tags that mention specific themes or events happening rather than stating elements already present in the show.\n",
    "\n",
    "### A Decision ###\n",
    "\n",
    "I face a dilmena when deciding if I should drop ship names from the tag list. On the one hand, show runners, my intended target audience for my findings, will most likely not take any advice about romantic relationships from a site notorious for throwing together characters seemingly at random sometimes. However, due to the frequency of these tags, it stands to reason that the ships found are legitimate findings that answer my guiding question. It is true to state that creators on Ao3 wanted to see these characters together, and in a few cases, like Voltron, the canon romantic relationships the writers chose to pursue are one of the reasons the fans disliked this ending so much that they felt it needed to be \"fixed.\" However, show writers often have to pander to a diverse audience, making some popular ships on Ao3 an impossibility to pursue as in these examples, these ships are often mlm or wlw. \n",
    "\n",
    "However, it can be seen that show runners are influenced by Ao3 creators, as one of the gay ships popularized on Ao3, Destiel, was made canon in the show during its final season. This sets a precedent for shipping popularity to affect a show's direction and writing, so I decided I will keep these tags in my analysis. \n",
    "\n",
    "### Cleaning ###\n",
    "In the following code cells, I will filter out tags of characters, content warnings, and the \"fix-it\" tags from the dataframe and then present the new pivot tables."
   ]
  },
  {
   "cell_type": "code",
   "execution_count": 86,
   "id": "d91145fe",
   "metadata": {},
   "outputs": [],
   "source": [
    "no_character_df = final_tagList[(final_tagList.Tags != \"Dean Winchester\") & (final_tagList.Tags != \"Keith (Voltron)\") & (final_tagList.Tags != \"Lance (Voltron)\") & (final_tagList.Tags != \"Rey (Star Wars)\") & (final_tagList.Tags != \"Sam Winchester\") & (final_tagList.Tags != \"Shiro (Voltron)\") & (final_tagList.Tags != \"Star Wars Sequel Trilogy\") & (final_tagList.Tags != \"Supernatural\") & (final_tagList.Tags != \"Voltron: Legendary Defender\") & (final_tagList.Tags != \"Fix-It\") & (final_tagList.Tags != \"Alternate Universe - Canon Divergence\") & (final_tagList.Tags != \"Creator Chose Not To Use Archive Warnings\") & (final_tagList.Tags != \"No Archive Warnings Apply\") & (final_tagList.Tags != \"Allura (Voltron)\") & (final_tagList.Tags != \"Ben Solo | Kylo Ren\") & (final_tagList.Tags != \"Castiel (Supernatural)\") & (final_tagList.Tags != \"Hunk (Voltron)\") & (final_tagList.Tags != \"Pidge | Katie Holt\") & (final_tagList.Tags != \"Poe Dameron\") & (final_tagList.Tags != \"Star Wars - All Media Types\") & (final_tagList.Tags != \"Finn (Star Wars)\") & (final_tagList.Tags != \"Coran (Voltron)\") & (final_tagList.Tags != \"Jack Kline\") & (final_tagList.Tags != \"Leia Organa\") & (final_tagList.Tags != \"Luke Skywalker\") & (final_tagList.Tags != \"Rose Tico\") & (final_tagList.Tags != \"Post-Canon\") & (final_tagList.Tags != \"Adam (Voltron)\") & (final_tagList.Tags != \"Post-Canon Fix-It\") & (final_tagList.Tags != \"Star Wars: The Rise of Skywalker Fix-It\") & (final_tagList.Tags != \"Eileen Leahy\") & (final_tagList.Tags != \"Armitage Hux\") & (final_tagList.Tags != \"Chewbacca (Star Wars)\") & (final_tagList.Tags != \"Matt Holt\") & (final_tagList.Tags != \"Fix-It of Sorts\") & (final_tagList.Tags != \"Romelle (Voltron)\") & (final_tagList.Tags != \" \") & (final_tagList.Tags != \"Ben Solo\") & (final_tagList.Tags != \"Bobby Singer\") & (final_tagList.Tags != \"Claire Novak\") & (final_tagList.Tags != \"Lotor (Voltron)\") & (final_tagList.Tags != \"Post-Star Wars: The Rise of Skywalker\") & (final_tagList.Tags != \"Castiel\") & (final_tagList.Tags != \"Krolia (Voltron)\") & (final_tagList.Tags != \"Canon Compliant\") & (final_tagList.Tags != \"Canon-Typical Violence\") & (final_tagList.Tags != \"Other Additional Tags to Be Added\") & (final_tagList.Tags != \"Anakin Skywalker\") & (final_tagList.Tags != \"Graphic Depictions Of Violence\") & (final_tagList.Tags != \"Han Solo\") & (final_tagList.Tags != \"Kylo Ren\") & (final_tagList.Tags != \"Snoke (Star Wars)\")]\n",
    "no_character_df = no_character_df.dropna(axis=0, how=\"any\")"
   ]
  },
  {
   "cell_type": "code",
   "execution_count": 87,
   "id": "41c53d44",
   "metadata": {},
   "outputs": [],
   "source": [
    "no_character_pivot_byFandom = no_character_df.pivot_table(columns=['Tags', 'Fandom'], aggfunc ='size')\n",
    "no_character_pivot_all = no_character_df.pivot_table(columns=['Tags'], aggfunc = 'size')"
   ]
  },
  {
   "cell_type": "code",
   "execution_count": 88,
   "id": "bf777008",
   "metadata": {},
   "outputs": [
    {
     "data": {
      "text/plain": [
       "Tags                         Fandom                     \n",
       "Adam (Voltron) Lives         Voltron: Legendary Defender     28\n",
       "Adam/Shiro (Voltron)         Voltron: Legendary Defender     43\n",
       "Angst                        Supernatural                    31\n",
       "                             Voltron: Legendary Defender     39\n",
       "Angst with a Happy Ending    Supernatural                    26\n",
       "Ben Solo Lives               Star Wars Sequel Trilogy        39\n",
       "Bisexual Lance (Voltron)     Voltron: Legendary Defender     27\n",
       "Castiel/Dean Winchester      Supernatural                   141\n",
       "Eileen Leahy/Sam Winchester  Supernatural                    37\n",
       "Fluff                        Supernatural                    29\n",
       "                             Voltron: Legendary Defender     34\n",
       "Force Bond (Star Wars)       Star Wars Sequel Trilogy        34\n",
       "Hurt/Comfort                 Voltron: Legendary Defender     40\n",
       "Keith & Lance (Voltron)      Voltron: Legendary Defender     29\n",
       "Keith & Shiro (Voltron)      Voltron: Legendary Defender     28\n",
       "Keith/Lance (Voltron)        Voltron: Legendary Defender     81\n",
       "Keith/Shiro (Voltron)        Voltron: Legendary Defender     35\n",
       "Kylo Ren/Rey                 Star Wars Sequel Trilogy        42\n",
       "Pining Keith (Voltron)       Voltron: Legendary Defender     29\n",
       "Redeemed Ben Solo            Star Wars Sequel Trilogy        31\n",
       "Rey/Ben Solo                 Star Wars Sequel Trilogy        53\n",
       "Rey/Ben Solo | Kylo Ren      Star Wars Sequel Trilogy        96\n",
       "Reylo - Freeform             Star Wars Sequel Trilogy        28\n",
       "Slow Burn                    Voltron: Legendary Defender     27\n",
       "dtype: int64"
      ]
     },
     "execution_count": 88,
     "metadata": {},
     "output_type": "execute_result"
    }
   ],
   "source": [
    "no_character_pivot_byFandom[no_character_pivot_byFandom > 25]"
   ]
  },
  {
   "cell_type": "code",
   "execution_count": 89,
   "id": "337eeb7f",
   "metadata": {},
   "outputs": [
    {
     "data": {
      "text/plain": [
       "Tags\n",
       "Adam (Voltron) Lives            28\n",
       "Adam/Shiro (Voltron)            43\n",
       "Angst                           95\n",
       "Angst with a Happy Ending       64\n",
       "Ben Solo Lives                  39\n",
       "Bisexual Lance (Voltron)        27\n",
       "Castiel/Dean Winchester        141\n",
       "Domestic Fluff                  27\n",
       "Eileen Leahy/Sam Winchester     37\n",
       "Emotional Hurt/Comfort          32\n",
       "Established Relationship        30\n",
       "Fluff                           84\n",
       "Fluff and Angst                 53\n",
       "Force Bond (Star Wars)          34\n",
       "Happy Ending                    47\n",
       "Hurt/Comfort                    75\n",
       "Keith & Lance (Voltron)         29\n",
       "Keith & Shiro (Voltron)         28\n",
       "Keith/Lance (Voltron)           81\n",
       "Keith/Shiro (Voltron)           35\n",
       "Kylo Ren/Rey                    42\n",
       "Major Character Death           54\n",
       "Mutual Pining                   35\n",
       "Pining Keith (Voltron)          29\n",
       "Redeemed Ben Solo               31\n",
       "Rey/Ben Solo                    53\n",
       "Rey/Ben Solo | Kylo Ren         96\n",
       "Reylo - Freeform                28\n",
       "Slow Burn                       56\n",
       "Time Travel Fix-It              30\n",
       "dtype: int64"
      ]
     },
     "execution_count": 89,
     "metadata": {},
     "output_type": "execute_result"
    }
   ],
   "source": [
    "no_character_pivot_all[no_character_pivot_all > 25]"
   ]
  },
  {
   "cell_type": "code",
   "execution_count": 90,
   "id": "94be1083",
   "metadata": {},
   "outputs": [],
   "source": [
    "no_character_Voltron_df = final_tagList[(final_tagList.Tags != \"Dean Winchester\") & (final_tagList.Tags != \"Keith (Voltron)\") & (final_tagList.Tags != \"Lance (Voltron)\") & (final_tagList.Tags != \"Rey (Star Wars)\") & (final_tagList.Tags != \"Sam Winchester\") & (final_tagList.Tags != \"Shiro (Voltron)\") & (final_tagList.Tags != \"Star Wars Sequel Trilogy\") & (final_tagList.Tags != \"Supernatural\") & (final_tagList.Tags != \"Voltron: Legendary Defender\") & (final_tagList.Tags != \"Fix-It\") & (final_tagList.Tags != \"Alternate Universe - Canon Divergence\") & (final_tagList.Tags != \"Creator Chose Not To Use Archive Warnings\") & (final_tagList.Tags != \"No Archive Warnings Apply\") & (final_tagList.Tags != \"Allura (Voltron)\") & (final_tagList.Tags != \"Ben Solo | Kylo Ren\") & (final_tagList.Tags != \"Castiel (Supernatural)\") & (final_tagList.Tags != \"Hunk (Voltron)\") & (final_tagList.Tags != \"Pidge | Katie Holt\") & (final_tagList.Tags != \"Poe Dameron\") & (final_tagList.Tags != \"Star Wars - All Media Types\") & (final_tagList.Tags != \"Finn (Star Wars)\") & (final_tagList.Tags != \"Coran (Voltron)\") & (final_tagList.Tags != \"Jack Kline\") & (final_tagList.Tags != \"Leia Organa\") & (final_tagList.Tags != \"Luke Skywalker\") & (final_tagList.Tags != \"Rose Tico\") & (final_tagList.Tags != \"Post-Canon\") & (final_tagList.Tags != \"Adam (Voltron)\") & (final_tagList.Tags != \"Post-Canon Fix-It\") & (final_tagList.Tags != \"Star Wars: The Rise of Skywalker Fix-It\") & (final_tagList.Tags != \"Eileen Leahy\") & (final_tagList.Tags != \"Armitage Hux\") & (final_tagList.Tags != \"Chewbacca (Star Wars)\") & (final_tagList.Tags != \"Matt Holt\") & (final_tagList.Tags != \"Fix-It of Sorts\") & (final_tagList.Tags != \"Romelle (Voltron)\") & (final_tagList.Tags != \" \") & (final_tagList.Tags != \"Ben Solo\") & (final_tagList.Tags != \"Bobby Singer\") & (final_tagList.Tags != \"Claire Novak\") & (final_tagList.Tags != \"Lotor (Voltron)\") & (final_tagList.Tags != \"Post-Star Wars: The Rise of Skywalker\") & (final_tagList.Tags != \"Castiel\") & (final_tagList.Tags != \"Krolia (Voltron)\") & (final_tagList.Tags != \"Canon Compliant\") & (final_tagList.Tags != \"Canon-Typical Violence\") & (final_tagList.Tags != \"Other Additional Tags to Be Added\") & (final_tagList.Tags != \"Anakin Skywalker\") & (final_tagList.Tags != \"Graphic Depictions Of Violence\") & (final_tagList.Tags != \"Han Solo\") & (final_tagList.Tags != \"Kylo Ren\") & (final_tagList.Tags != \"Snoke (Star Wars)\") & (final_tagList.Fandom == \"Voltron: Legendary Defender\")]\n",
    "no_character_Supernatural_df = final_tagList[(final_tagList.Tags != \"Dean Winchester\") & (final_tagList.Tags != \"Keith (Voltron)\") & (final_tagList.Tags != \"Lance (Voltron)\") & (final_tagList.Tags != \"Rey (Star Wars)\") & (final_tagList.Tags != \"Sam Winchester\") & (final_tagList.Tags != \"Shiro (Voltron)\") & (final_tagList.Tags != \"Star Wars Sequel Trilogy\") & (final_tagList.Tags != \"Supernatural\") & (final_tagList.Tags != \"Voltron: Legendary Defender\") & (final_tagList.Tags != \"Fix-It\") & (final_tagList.Tags != \"Alternate Universe - Canon Divergence\") & (final_tagList.Tags != \"Creator Chose Not To Use Archive Warnings\") & (final_tagList.Tags != \"No Archive Warnings Apply\") & (final_tagList.Tags != \"Allura (Voltron)\") & (final_tagList.Tags != \"Ben Solo | Kylo Ren\") & (final_tagList.Tags != \"Castiel (Supernatural)\") & (final_tagList.Tags != \"Hunk (Voltron)\") & (final_tagList.Tags != \"Pidge | Katie Holt\") & (final_tagList.Tags != \"Poe Dameron\") & (final_tagList.Tags != \"Star Wars - All Media Types\") & (final_tagList.Tags != \"Finn (Star Wars)\") & (final_tagList.Tags != \"Coran (Voltron)\") & (final_tagList.Tags != \"Jack Kline\") & (final_tagList.Tags != \"Leia Organa\") & (final_tagList.Tags != \"Luke Skywalker\") & (final_tagList.Tags != \"Rose Tico\") & (final_tagList.Tags != \"Post-Canon\") & (final_tagList.Tags != \"Adam (Voltron)\") & (final_tagList.Tags != \"Post-Canon Fix-It\") & (final_tagList.Tags != \"Star Wars: The Rise of Skywalker Fix-It\") & (final_tagList.Tags != \"Eileen Leahy\") & (final_tagList.Tags != \"Armitage Hux\") & (final_tagList.Tags != \"Chewbacca (Star Wars)\") & (final_tagList.Tags != \"Matt Holt\") & (final_tagList.Tags != \"Fix-It of Sorts\") & (final_tagList.Tags != \"Romelle (Voltron)\") & (final_tagList.Tags != \" \") & (final_tagList.Tags != \"Ben Solo\") & (final_tagList.Tags != \"Bobby Singer\") & (final_tagList.Tags != \"Claire Novak\") & (final_tagList.Tags != \"Lotor (Voltron)\") & (final_tagList.Tags != \"Post-Star Wars: The Rise of Skywalker\") & (final_tagList.Tags != \"Castiel\") & (final_tagList.Tags != \"Krolia (Voltron)\") & (final_tagList.Tags != \"Canon Compliant\") & (final_tagList.Tags != \"Canon-Typical Violence\") & (final_tagList.Tags != \"Other Additional Tags to Be Added\") & (final_tagList.Tags != \"Anakin Skywalker\") & (final_tagList.Tags != \"Graphic Depictions Of Violence\") & (final_tagList.Tags != \"Han Solo\") & (final_tagList.Tags != \"Kylo Ren\") & (final_tagList.Tags != \"Snoke (Star Wars)\") & (final_tagList.Fandom == \"Supernatural\")]\n",
    "no_character_StarWars_df = final_tagList[(final_tagList.Tags != \"Dean Winchester\") & (final_tagList.Tags != \"Keith (Voltron)\") & (final_tagList.Tags != \"Lance (Voltron)\") & (final_tagList.Tags != \"Rey (Star Wars)\") & (final_tagList.Tags != \"Sam Winchester\") & (final_tagList.Tags != \"Shiro (Voltron)\") & (final_tagList.Tags != \"Star Wars Sequel Trilogy\") & (final_tagList.Tags != \"Supernatural\") & (final_tagList.Tags != \"Voltron: Legendary Defender\") & (final_tagList.Tags != \"Fix-It\") & (final_tagList.Tags != \"Alternate Universe - Canon Divergence\") & (final_tagList.Tags != \"Creator Chose Not To Use Archive Warnings\") & (final_tagList.Tags != \"No Archive Warnings Apply\") & (final_tagList.Tags != \"Allura (Voltron)\") & (final_tagList.Tags != \"Ben Solo | Kylo Ren\") & (final_tagList.Tags != \"Castiel (Supernatural)\") & (final_tagList.Tags != \"Hunk (Voltron)\") & (final_tagList.Tags != \"Pidge | Katie Holt\") & (final_tagList.Tags != \"Poe Dameron\") & (final_tagList.Tags != \"Star Wars - All Media Types\") & (final_tagList.Tags != \"Finn (Star Wars)\") & (final_tagList.Tags != \"Coran (Voltron)\") & (final_tagList.Tags != \"Jack Kline\") & (final_tagList.Tags != \"Leia Organa\") & (final_tagList.Tags != \"Luke Skywalker\") & (final_tagList.Tags != \"Rose Tico\") & (final_tagList.Tags != \"Post-Canon\") & (final_tagList.Tags != \"Adam (Voltron)\") & (final_tagList.Tags != \"Post-Canon Fix-It\") & (final_tagList.Tags != \"Star Wars: The Rise of Skywalker Fix-It\") & (final_tagList.Tags != \"Eileen Leahy\") & (final_tagList.Tags != \"Armitage Hux\") & (final_tagList.Tags != \"Chewbacca (Star Wars)\") & (final_tagList.Tags != \"Matt Holt\") & (final_tagList.Tags != \"Fix-It of Sorts\") & (final_tagList.Tags != \"Romelle (Voltron)\") & (final_tagList.Tags != \" \") & (final_tagList.Tags != \"Ben Solo\") & (final_tagList.Tags != \"Bobby Singer\") & (final_tagList.Tags != \"Claire Novak\") & (final_tagList.Tags != \"Lotor (Voltron)\") & (final_tagList.Tags != \"Post-Star Wars: The Rise of Skywalker\") & (final_tagList.Tags != \"Castiel\") & (final_tagList.Tags != \"Krolia (Voltron)\") & (final_tagList.Tags != \"Canon Compliant\") & (final_tagList.Tags != \"Canon-Typical Violence\") & (final_tagList.Tags != \"Other Additional Tags to Be Added\") & (final_tagList.Tags != \"Anakin Skywalker\") & (final_tagList.Tags != \"Graphic Depictions Of Violence\") & (final_tagList.Tags != \"Han Solo\") & (final_tagList.Tags != \"Kylo Ren\") & (final_tagList.Tags != \"Snoke (Star Wars)\") & (final_tagList.Fandom == \"Star Wars Sequel Trilogy\")]\n",
    "\n",
    "\n",
    "no_character_pivot_Voltron = no_character_Voltron_df.pivot_table(columns=['Tags'], aggfunc = 'size')\n",
    "no_character_pivot_Supernatural = no_character_Supernatural_df.pivot_table(columns=['Tags'], aggfunc = 'size')\n",
    "no_character_pivot_StarWars = no_character_StarWars_df.pivot_table(columns=['Tags'], aggfunc = 'size')"
   ]
  },
  {
   "cell_type": "code",
   "execution_count": 91,
   "id": "1c5c72f8",
   "metadata": {},
   "outputs": [
    {
     "data": {
      "text/plain": [
       "Tags\n",
       "Adam (Voltron) Lives                  28\n",
       "Adam/Shiro (Voltron)                  43\n",
       "Angst                                 39\n",
       "Bisexual Lance (Voltron)              27\n",
       "Fluff                                 34\n",
       "Fluff and Angst                       21\n",
       "Gay Keith (Voltron)                   25\n",
       "Hurt/Comfort                          40\n",
       "Keith & Lance (Voltron)               29\n",
       "Keith & Shiro (Voltron)               28\n",
       "Keith (Voltron) is Bad at Feelings    24\n",
       "Keith/Lance (Voltron)                 81\n",
       "Keith/Shiro (Voltron)                 35\n",
       "Pining Keith (Voltron)                29\n",
       "Slow Burn                             27\n",
       "dtype: int64"
      ]
     },
     "execution_count": 91,
     "metadata": {},
     "output_type": "execute_result"
    }
   ],
   "source": [
    "no_character_pivot_Voltron[no_character_pivot_Voltron > 20]"
   ]
  },
  {
   "cell_type": "code",
   "execution_count": 92,
   "id": "d35a63be",
   "metadata": {},
   "outputs": [
    {
     "data": {
      "text/plain": [
       "Tags\n",
       "Angst                                31\n",
       "Angst with a Happy Ending            26\n",
       "Castiel/Dean Winchester             141\n",
       "Dean Winchester & Sam Winchester     24\n",
       "Eileen Leahy/Sam Winchester          37\n",
       "Episode Fix-It: s15e20 Carry On      22\n",
       "Fluff                                29\n",
       "Happy Ending                         21\n",
       "Hurt/Comfort                         23\n",
       "dtype: int64"
      ]
     },
     "execution_count": 92,
     "metadata": {},
     "output_type": "execute_result"
    }
   ],
   "source": [
    "no_character_pivot_Supernatural[no_character_pivot_Supernatural > 20]"
   ]
  },
  {
   "cell_type": "code",
   "execution_count": 93,
   "id": "18cf648c",
   "metadata": {},
   "outputs": [
    {
     "data": {
      "text/plain": [
       "Tags\n",
       "Angst                        25\n",
       "Ben Solo Lives               39\n",
       "Ben Solo Needs A Hug         22\n",
       "Fluff                        21\n",
       "Force Bond (Star Wars)       34\n",
       "Kylo Ren/Rey                 42\n",
       "Major Character Death        25\n",
       "Redeemed Ben Solo            31\n",
       "Rey & Ben Solo | Kylo Ren    25\n",
       "Rey/Ben Solo                 53\n",
       "Rey/Ben Solo | Kylo Ren      96\n",
       "Reylo - Freeform             28\n",
       "dtype: int64"
      ]
     },
     "execution_count": 93,
     "metadata": {},
     "output_type": "execute_result"
    }
   ],
   "source": [
    "no_character_pivot_StarWars[no_character_pivot_StarWars > 20]"
   ]
  },
  {
   "cell_type": "code",
   "execution_count": 94,
   "id": "741229f4",
   "metadata": {},
   "outputs": [
    {
     "data": {
      "text/plain": [
       "<AxesSubplot:ylabel='Tags'>"
      ]
     },
     "execution_count": 94,
     "metadata": {},
     "output_type": "execute_result"
    },
    {
     "data": {
      "image/png": "[encoded data removed]",
      "text/plain": [
       "<Figure size 432x288 with 1 Axes>"
      ]
     },
     "metadata": {
      "needs_background": "light"
     },
     "output_type": "display_data"
    }
   ],
   "source": [
    "no_character_pivot_all[no_character_pivot_all > 30].plot.barh()"
   ]
  },
  {
   "cell_type": "code",
   "execution_count": 95,
   "id": "add2dbfe",
   "metadata": {},
   "outputs": [
    {
     "data": {
      "text/plain": [
       "<AxesSubplot:ylabel='Tags'>"
      ]
     },
     "execution_count": 95,
     "metadata": {},
     "output_type": "execute_result"
    },
    {
     "data": {
      "image/png": "[encoded data removed]",
      "text/plain": [
       "<Figure size 432x288 with 1 Axes>"
      ]
     },
     "metadata": {
      "needs_background": "light"
     },
     "output_type": "display_data"
    }
   ],
   "source": [
    "no_character_pivot_Voltron[no_character_pivot_Voltron > 20].plot.barh()"
   ]
  },
  {
   "cell_type": "code",
   "execution_count": 96,
   "id": "13ab3cfe",
   "metadata": {},
   "outputs": [
    {
     "data": {
      "text/plain": [
       "<AxesSubplot:ylabel='Tags'>"
      ]
     },
     "execution_count": 96,
     "metadata": {},
     "output_type": "execute_result"
    },
    {
     "data": {
      "image/png": "[encoded data removed]",
      "text/plain": [
       "<Figure size 432x288 with 1 Axes>"
      ]
     },
     "metadata": {
      "needs_background": "light"
     },
     "output_type": "display_data"
    }
   ],
   "source": [
    "no_character_pivot_Supernatural[no_character_pivot_Supernatural > 18].plot.barh()"
   ]
  },
  {
   "cell_type": "code",
   "execution_count": 97,
   "id": "079a9660",
   "metadata": {},
   "outputs": [
    {
     "data": {
      "text/plain": [
       "<AxesSubplot:ylabel='Tags'>"
      ]
     },
     "execution_count": 97,
     "metadata": {},
     "output_type": "execute_result"
    },
    {
     "data": {
      "image/png": "[encoded data removed]",
      "text/plain": [
       "<Figure size 432x288 with 1 Axes>"
      ]
     },
     "metadata": {
      "needs_background": "light"
     },
     "output_type": "display_data"
    }
   ],
   "source": [
    "no_character_pivot_StarWars[no_character_pivot_StarWars > 20].plot.barh()"
   ]
  },
  {
   "cell_type": "markdown",
   "id": "7573aa35",
   "metadata": {},
   "source": [
    "## Conclusions ##\n",
    "\n",
    "The most popular tags overall are Angst, Fluff, Hurt/Comfort, and Slow Burn. Ship name tags are also quite popular, with Destiel, Reylo, and Klance being the ships of choice. When looking at each fandom individually, the tags show that fluff and angst are consistent across the fandoms. Happy endings are a common tag shared between Supernatural and Star Wars Sequel Trilogy, while Volton tags are about building to a romance/ unrequited love. \n",
    "\n",
    "Through these charts, we are able to see what the creators on Ao3 felt needed to be fixed across these three shows.\n",
    "\n",
    "### Voltron ###\n",
    "The Voltron graphs reveals that most creators on Ao3 wrote about the popular ship Keith/Lance (Klance). This ship was not canon in the show, as Lance canonically is interested in Allura. Keith is in 7 out of 15 tags shown on the graph, indicating that he is a popular character. \n",
    "\n",
    "The character Adam is also in the tag list a few times. Adam is a character that was added to the show as a romantic interest for Shiro. This was significant as it was the first homosexual relationship to be canonized in the show. Many fans were disappointed by Adam, though, as he was dead and just added to Shiro's backstory. This explains the inclusion of the \"Adam lives\" tag.\n",
    "\n",
    "Tags such as hurt/comfort and fluff/angst show that the creators on Ao3 are looking for social interactions between characters rather than action packed sequences. These tags are added to fanfictions where characters work through miscommunications, struggles, and interact on an emotional level. \n",
    "\n",
    "Due to these facts, I would recommend to show runner to include more character connections rather than focusing on action. As a fantasy action show, there still needs to be more human connections showcased throughout with real feeling struggles. Based on the tags listed, viewers do not feel satisfied with the current level of character development. Relationships on the show should demonstrate human struggles as well as triumphs to fulfill the emotional needs of the audience. There should also be more plot lines with Keith, as he is a fan favorite, and to consider if it made sense to include the romance between Keith and Lance, as this is the most popular ship. This leads into the last recommendation, which is to handle mlm and wlw relationships on the show with more care, tact, and emotion. The mlm relationship on the show between Adam and Shiro was not well received, as many fanfictions \"fixed\" their relationship and brought Adam on as a main character rather than a tragic backstory. \n"
   ]
  },
  {
   "cell_type": "code",
   "execution_count": 98,
   "id": "2971e53e",
   "metadata": {},
   "outputs": [
    {
     "data": {
      "text/plain": [
       "<AxesSubplot:ylabel='Tags'>"
      ]
     },
     "execution_count": 98,
     "metadata": {},
     "output_type": "execute_result"
    },
    {
     "data": {
      "image/png": "[encoded data removed]",
      "text/plain": [
       "<Figure size 432x288 with 1 Axes>"
      ]
     },
     "metadata": {
      "needs_background": "light"
     },
     "output_type": "display_data"
    }
   ],
   "source": [
    "no_character_pivot_Voltron[no_character_pivot_Voltron > 20].plot.barh()"
   ]
  },
  {
   "cell_type": "markdown",
   "id": "d7737d5b",
   "metadata": {},
   "source": [
    "### Supernatural ###\n",
    "There is a clear win in 'most popular tag.' The ship tag between Castiel and Dean is by far the most popular, with about 100 more uses than the second most common tag. As discussed previously, the this show actually did include a Castiel/Dean (Destiel) moment in the last season of the show. Similar to Voltron, however, fans were not 100% happy with how this scene played out between these characters. Castiel confesses his love to Dean as Castiel is dying, contributing to the \"bury your gays\" trope, where many show writers will add in a gay relationship and then immediately kill off one or both of the characters. This may have also lead to the prevalence of \"happy ending\" tags seen.\n",
    "\n",
    "The \"happy ending\" tag may also be coupled with the \"s15 ep20 fix-it\" tag. Season 15 episode 20 is the last episode of the series, and although I did not watch this episode, I do know there is a major character death, so the tag could be used to reverse this decisions. However, there is no \"Dean is alive\" tag that is popular, so I am not confident that the character death is what is being \"fixed\" in these fanfictions. \n",
    "\n",
    "Besides some other ships in the show, hurt/comfort and fluff/angst make an appearance in the list. As with Voltron, this indicates more emotions and connections between characters.\n",
    "\n",
    "Based on these tags, my recommendations to the show runners of Supernatural would be to introduce the connection between Castiel and Dean earlier in the show to allow these feelings to be explored between the characters. To be put in the perspective of an audience member who wanted to see Destiel, you spent the whole 15 seasons of the show seeing a potential connection between these characters. It is assumed that the show will never canonize a romantic connection, but then, in the final season, they reveal that there were romantic intentions with one of the characters. But alas, this character is now dead and the audience is left to deal with the emotions of this confession as well as the emotions that come with a character death. This can feel unsatisfying, and having an earlier reveal could have rectified this. "
   ]
  },
  {
   "cell_type": "code",
   "execution_count": 99,
   "id": "0cec1e91",
   "metadata": {},
   "outputs": [
    {
     "data": {
      "text/plain": [
       "<AxesSubplot:ylabel='Tags'>"
      ]
     },
     "execution_count": 99,
     "metadata": {},
     "output_type": "execute_result"
    },
    {
     "data": {
      "image/png": "[encoded data removed]",
      "text/plain": [
       "<Figure size 432x288 with 1 Axes>"
      ]
     },
     "metadata": {
      "needs_background": "light"
     },
     "output_type": "display_data"
    }
   ],
   "source": [
    "no_character_pivot_Supernatural[no_character_pivot_Supernatural > 18].plot.barh()"
   ]
  },
  {
   "cell_type": "markdown",
   "id": "e9b0be74",
   "metadata": {},
   "source": [
    "### Star Wars Sequel Trilogy ###\n",
    "The two main plot points being \"fixed\" in this series have to do with Kylo Ren. Based on the tags seen in the chart below, Ao3 creators wanted to see more Kylo Ren and Rey content as well as having Kylo Ren redeemed. This is another series where the show runners listened to fans and added a canon relationship between Kylo and Rey. But, like in the previous show, this relationship was canonized by the confession of love between both characters as they were in mortal danger and one did die. This fact along with the presence of the angst and fluff tags indicate that people wanted to see this potential relationship grow and develop before the final scenes of the movie, allowing for more human moments and conflict/resolutions to happen and strengthen the connection between these two characters. \n",
    "\n",
    "Kylo Ren was redeemed, in a way, at the end of the film by helping Rey defeat the bad guy. However, he was killed in the process. Many tags indicate that fans would have like to have seen Kylo have more opportunities to redeem himself and to interact with the other characters after he had been redeemed. \n",
    "\n",
    "My recommendations to the Star Wars writers based on the most popular fix it fics tags would be to allow more time to explore the feelings between Kylo and Rey in canon as well as letting the transition of Kylo from bad guy to good guy take up more time as well. "
   ]
  },
  {
   "cell_type": "code",
   "execution_count": 100,
   "id": "e67f1133",
   "metadata": {},
   "outputs": [
    {
     "data": {
      "text/plain": [
       "<AxesSubplot:ylabel='Tags'>"
      ]
     },
     "execution_count": 100,
     "metadata": {},
     "output_type": "execute_result"
    },
    {
     "data": {
      "image/png": "[encoded data removed]",
      "text/plain": [
       "<Figure size 432x288 with 1 Axes>"
      ]
     },
     "metadata": {
      "needs_background": "light"
     },
     "output_type": "display_data"
    }
   ],
   "source": [
    "no_character_pivot_StarWars[no_character_pivot_StarWars > 20].plot.barh()"
   ]
  },
  {
   "cell_type": "markdown",
   "id": "04fcf651",
   "metadata": {},
   "source": [
    "### Limitations ###\n",
    "My findings and recommendations are severely limited. The main way in which I am limited is in the scope. In order to make recommendations to show runner, I want to be able to say \"the majority of the audience wants...\" In this report, I am assuming that content creators on Ao3 share the opinions as the majority of audience members, which I have no way to verify. It also highlights people who were unhappy with the ending, as I specfically looked at fix-it fics, and did not compare this with fanfictions that were happy with the endings. I did choose the shows based on what I personally had seen in the audience communities and chose series that had \"bad\" endings, but I did not back up these choices with data that compared fix-it fics to fictions that were written in canon with the endings. \n",
    "\n",
    "\n",
    "### Overall Recommendations ###"
   ]
  },
  {
   "cell_type": "code",
   "execution_count": 101,
   "id": "e265cc44",
   "metadata": {},
   "outputs": [
    {
     "data": {
      "text/plain": [
       "<AxesSubplot:ylabel='Tags'>"
      ]
     },
     "execution_count": 101,
     "metadata": {},
     "output_type": "execute_result"
    },
    {
     "data": {
      "image/png": "[encoded data removed]",
      "text/plain": [
       "<Figure size 432x288 with 1 Axes>"
      ]
     },
     "metadata": {
      "needs_background": "light"
     },
     "output_type": "display_data"
    }
   ],
   "source": [
    "no_character_pivot_all[no_character_pivot_all > 30].plot.barh()"
   ]
  },
  {
   "cell_type": "markdown",
   "id": "91af736d",
   "metadata": {},
   "source": [
    "Looking at all of the tags regardless of fandom, I would recommend to show runners to include more character driven content and plot within shows rather than relying on action. With popular tags on fix-it fics being angst, hurt/comfort, and fluff, it is clear that audiences are craving emotional connections between characters and how social consequences can shape relationships. All of these franchises are built on action, but it is clear that action alone will leave audiences wanting and drives people to create their own endings to fill this void.\n",
    "\n",
    "To prevent your own show from having many fix-it fics written about it, I would recommend balancing action with character driven plot development as well as allowing any potential relationships to have room to grow and develop connections."
   ]
  }
 ],
 "metadata": {
  "kernelspec": {
   "display_name": "Python 3 (ipykernel)",
   "language": "python",
   "name": "python3"
  },
  "language_info": {
   "codemirror_mode": {
    "name": "ipython",
    "version": 3
   },
   "file_extension": ".py",
   "mimetype": "text/x-python",
   "name": "python",
   "nbconvert_exporter": "python",
   "pygments_lexer": "ipython3",
   "version": "3.9.6"
  }
 },
 "nbformat": 4,
 "nbformat_minor": 5
}
